{
 "cells": [
  {
   "cell_type": "markdown",
   "metadata": {},
   "source": [
    "# <데이터 분석을 위한 파이썬 철저 입문>\n",
    "### 작성자: 이은학\n",
    "### 4장. 변수와 자료형\n",
    "---"
   ]
  },
  {
   "cell_type": "markdown",
   "metadata": {},
   "source": [
    "#### 4-1. 변수"
   ]
  },
  {
   "cell_type": "markdown",
   "metadata": {},
   "source": [
    "+ __변수__(variable): 숫자와 같은 자료(data)를 넣을 수 있는 상자\n",
    "+ 상자에 붙인 이름을 변수명이라고 합니다. 실제로 변수는 컴퓨터의 임시 저장 공간(메모리)에 저장됩니다.\n",
    "+ 파이썬에서 등호(=)를 이용해 변수에 자료를 넣습니다. 즉, '__변수명 = data__'같은 형태로 사용합니다."
   ]
  },
  {
   "cell_type": "code",
   "execution_count": 1,
   "metadata": {},
   "outputs": [
    {
     "name": "stdout",
     "output_type": "stream",
     "text": [
      "12345\n"
     ]
    }
   ],
   "source": [
    "num = 12345\n",
    "print(num)"
   ]
  },
  {
   "cell_type": "markdown",
   "metadata": {},
   "source": [
    "+ __변수 이름을 정할 때 지켜야 할 규칙(중요)__\n",
    "\n",
    "    1. 변수명은 문자, 숫자, 밑줄 기호를 이용해 만듭니다.\n",
    "    2. 숫자로 시작하는 변수명을 만들 수 없습니다.\n",
    "    3. 대소문자를 구분합니다.\n",
    "    4. 공백을 포함할 수 없습니다.\n",
    "    5. 밑줄 이외의 기호는 변수에 이용할 수 없습니다.\n",
    "    6. 예약어(Reserved word)는 변수명으로 이용할 수 없습니다."
   ]
  },
  {
   "cell_type": "markdown",
   "metadata": {},
   "source": [
    "---\n",
    "#### 4-2. 문자열"
   ]
  },
  {
   "cell_type": "markdown",
   "metadata": {},
   "source": [
    "+ 문자열은 문자의 나열을 의미하는데, 파이썬에서는 따옴표로 둘러싸인 문자의 집합입니다.\n",
    "+ 문자열을 표시하기 위해 시작과 끝에 큰따옴표(\")나 작은따옴표(\")를 지정합니다. (단, 양쪽에는 같은 기호를 사용해야 합니다.)"
   ]
  },
  {
   "cell_type": "code",
   "execution_count": 2,
   "metadata": {},
   "outputs": [
    {
     "name": "stdout",
     "output_type": "stream",
     "text": [
      "String Test\n",
      "String Test\n"
     ]
    }
   ],
   "source": [
    "print(\"String Test\")\n",
    "print('String Test')"
   ]
  },
  {
   "cell_type": "code",
   "execution_count": 3,
   "metadata": {},
   "outputs": [
    {
     "name": "stdout",
     "output_type": "stream",
     "text": [
      "lee eunhak\n",
      "data analysis\n"
     ]
    }
   ],
   "source": [
    "string1 = \"lee eunhak\"\n",
    "string2 = \"data analysis\"\n",
    "print(string1)\n",
    "print(string2)"
   ]
  },
  {
   "cell_type": "markdown",
   "metadata": {},
   "source": [
    "+ 위의 예시에서 변수에 할당한 문자열의 타입(type)은 무엇일까요? str 바로 문자열(string)인 것을 의미합니다."
   ]
  },
  {
   "cell_type": "code",
   "execution_count": 4,
   "metadata": {},
   "outputs": [
    {
     "data": {
      "text/plain": [
       "str"
      ]
     },
     "execution_count": 4,
     "metadata": {},
     "output_type": "execute_result"
    }
   ],
   "source": [
    "type(string1)\n",
    "type(string2)"
   ]
  },
  {
   "cell_type": "markdown",
   "metadata": {},
   "source": [
    "+ 문자열에는 더하기 연산자(+)와 곱하기 연산자(*)를 이용할 수 있습니다.\n",
    "+ 각각 문자열끼리 연결해 문자열을 하나로 만들고, 곱한 만큼 문자열을 반복합니다."
   ]
  },
  {
   "cell_type": "code",
   "execution_count": 5,
   "metadata": {},
   "outputs": [
    {
     "name": "stdout",
     "output_type": "stream",
     "text": [
      "Enjoy python!\n"
     ]
    }
   ],
   "source": [
    "a = 'Enjoy '\n",
    "b = 'python!'\n",
    "c = a + b\n",
    "print(c)"
   ]
  },
  {
   "cell_type": "code",
   "execution_count": 6,
   "metadata": {},
   "outputs": [
    {
     "name": "stdout",
     "output_type": "stream",
     "text": [
      "python!python!python!\n"
     ]
    }
   ],
   "source": [
    "print(b * 3)"
   ]
  },
  {
   "cell_type": "markdown",
   "metadata": {},
   "source": [
    "---\n",
    "#### 4-3. 리스트"
   ]
  },
  {
   "cell_type": "markdown",
   "metadata": {},
   "source": [
    "+ __리스트 만들기__\n",
    "\n",
    "    1. 리스트는 __대괄호__([])를 이용해 만듭니다.\n",
    "    2. 리스트 안에 올수 있는 항목의 데이터 타입은 다양합니다. (숫자, 문자열, 불, 리스트 등등)\n",
    "    3. 각 항목의 데이터 타입은 같지 않아도 됩니다.\n",
    "    4. 데이터는 입력한 순서대로 지정되며 항목은 콤마로 구분합니다.\n",
    "    5. 대괄호 안에 아무것도 쓰지 않으면 빈 리스트가 만들어집니다. 데이터는 없지만 형태는 리스트입니다."
   ]
  },
  {
   "cell_type": "code",
   "execution_count": 7,
   "metadata": {},
   "outputs": [
    {
     "data": {
      "text/plain": [
       "[85, 90, 100, 95]"
      ]
     },
     "execution_count": 7,
     "metadata": {},
     "output_type": "execute_result"
    }
   ],
   "source": [
    "# 이은학 학생의 국어, 영어, 수학, 과학 점수가 각각 85, 90, 100, 95\n",
    "student1 = [85,90,100,95]\n",
    "student1"
   ]
  },
  {
   "cell_type": "markdown",
   "metadata": {},
   "source": [
    "+ __리스트에서 각 항목__은 '__변수명[i]__'로 지정할 수 있습니다.\n",
    "\n",
    "    1. 여기서 i를 리스트 변수의 인덱스(index)라고 합니다.\n",
    "    2. N개의 항목이 있는 리스트 타입의 데이터가 있다면 인덱스 i의 범위는 0부터 (N - 1)까지 입니다."
   ]
  },
  {
   "cell_type": "code",
   "execution_count": 9,
   "metadata": {},
   "outputs": [
    {
     "data": {
      "text/plain": [
       "100"
      ]
     },
     "execution_count": 9,
     "metadata": {},
     "output_type": "execute_result"
    }
   ],
   "source": [
    "student1[2]  # 학생의 수학 점수를 출력"
   ]
  },
  {
   "cell_type": "code",
   "execution_count": 12,
   "metadata": {},
   "outputs": [
    {
     "data": {
      "text/plain": [
       "95"
      ]
     },
     "execution_count": 12,
     "metadata": {},
     "output_type": "execute_result"
    }
   ],
   "source": [
    "student1[-1]  # 학생의 과학 점수를 출력\n",
    "              # 마지막 인덱스부터 왼쪽 방향으로 음수로 지정할 수 있습니다. 첫 시작은 -1 입니다."
   ]
  },
  {
   "cell_type": "markdown",
   "metadata": {},
   "source": [
    "+ 리스트의 __특정 항목을 변경__하려면 다음과 같이 '__변수명[i] = new_data__'를 이용해 리스트 변수에서 인덱스 i 항목을 new_data로 변경할 수 있습니다."
   ]
  },
  {
   "cell_type": "code",
   "execution_count": 13,
   "metadata": {},
   "outputs": [],
   "source": [
    "# 학생의 영어 점수가 잘못 입력되어 95점으로 변경해야 하는 상황\n",
    "student1[1] = 95  # 두 번째 항목에 새로운 데이터 할당"
   ]
  },
  {
   "cell_type": "code",
   "execution_count": 14,
   "metadata": {},
   "outputs": [
    {
     "data": {
      "text/plain": [
       "[85, 95, 100, 95]"
      ]
     },
     "execution_count": 14,
     "metadata": {},
     "output_type": "execute_result"
    }
   ],
   "source": [
    "student1"
   ]
  },
  {
   "cell_type": "markdown",
   "metadata": {},
   "source": [
    "+ __리스트 다루기__   "
   ]
  },
  {
   "cell_type": "markdown",
   "metadata": {},
   "source": [
    "+ 리스트 더하기와 곱하기\n",
    "    1. 문자열과 마찬가지로 연산자를 이용하여 더하기와 곱하기를 할 수 있습니다."
   ]
  },
  {
   "cell_type": "markdown",
   "metadata": {},
   "source": [
    "+ 리스트 중 __일부 항목 가져오기__ <__리스트[i_start : i_end], 리스트[i_start : i_end : i_step]__>\n",
    "  1. i_start, i_end, i_step은 각각 인덱스의 시작, 끝, 스텝(증가 단계)입니다.\n",
    "  2. 위와 같이 인덱스의 범위를 지정하면 해당 범위의 리스트를 반환합니다.\n",
    "  3. i_start를 생략하면 인덱스는 0으로, i_end를 생략하면 인덱스는 마지막이라고 간주합니다."
   ]
  },
  {
   "cell_type": "code",
   "execution_count": 15,
   "metadata": {},
   "outputs": [
    {
     "name": "stdout",
     "output_type": "stream",
     "text": [
      "[0, 1, 2, 3, 4, 5, 6, 7, 8, 9]\n",
      "[4, 5, 6, 7]\n",
      "[0, 1, 2]\n",
      "[0, 2, 4, 6, 8]\n"
     ]
    }
   ],
   "source": [
    "list_data = [0, 1, 2, 3, 4, 5, 6, 7, 8, 9]\n",
    "print(list_data)\n",
    "print(list_data[4:8])\n",
    "print(list_data[:3])\n",
    "print(list_data[::2])"
   ]
  },
  {
   "cell_type": "markdown",
   "metadata": {},
   "source": [
    "+ 리스트에서 __항목 삭제__하기\n",
    "  1. 인덱스가 i인 항목을 삭제하려면 '__del 리스트[i]__'를 이용합니다."
   ]
  },
  {
   "cell_type": "code",
   "execution_count": 16,
   "metadata": {},
   "outputs": [
    {
     "name": "stdout",
     "output_type": "stream",
     "text": [
      "[0, 1, 2, 3, 4, 5, 6, 7, 8, 9]\n",
      "[0, 1, 2, 3, 4, 5, 7, 8, 9]\n"
     ]
    }
   ],
   "source": [
    "print(list_data)\n",
    "del list_data[6]  # 항목 삭제\n",
    "print(list_data)"
   ]
  },
  {
   "cell_type": "markdown",
   "metadata": {},
   "source": [
    "+ 리스트에서 __항목의 존재 여부 확인__하기\n",
    "  1. 항목이 있는지 확인하려면 '__항목 in 리스트__'를 이용합니다.\n",
    "  2. 리스트에 항목이 있으면 True를, 없으면 False를 반환합니다."
   ]
  },
  {
   "cell_type": "code",
   "execution_count": 17,
   "metadata": {},
   "outputs": [
    {
     "name": "stdout",
     "output_type": "stream",
     "text": [
      "True\n",
      "False\n"
     ]
    }
   ],
   "source": [
    "list_data1 = [1, 2, 3, 4, 5]\n",
    "print(5 in list_data1)\n",
    "print(6 in list_data1)"
   ]
  },
  {
   "cell_type": "markdown",
   "metadata": {},
   "source": [
    "+ __리스트 메서드 활용__하기\n",
    "  1. 파이썬에서 데이터 타입(자료형)별로 이용할 수 있는 다양한 함수를 제공하는데 이를 메서드라고 합니다.\n",
    "  2. 메서드는 __자료형.메서드이름()__ 형태로 사용합니다."
   ]
  },
  {
   "cell_type": "code",
   "execution_count": 18,
   "metadata": {},
   "outputs": [
    {
     "name": "stdout",
     "output_type": "stream",
     "text": [
      "['red', 'yellow', 'green']\n",
      "['red', 'yellow', 'green', 'blue']\n"
     ]
    }
   ],
   "source": [
    "# 리스트 맨 끝에 새로운 항목 추가하기\n",
    "color = ['red', 'yellow', 'green']\n",
    "print(color)\n",
    "color.append('blue')\n",
    "print(color)"
   ]
  },
  {
   "cell_type": "code",
   "execution_count": 19,
   "metadata": {},
   "outputs": [
    {
     "name": "stdout",
     "output_type": "stream",
     "text": [
      "['red', 'orange', 'yellow', 'green', 'blue']\n"
     ]
    }
   ],
   "source": [
    "# 리스트의 원하는 위치에 데이터를 삽입하기\n",
    "color.insert(1, 'orange')\n",
    "print(color)"
   ]
  },
  {
   "cell_type": "code",
   "execution_count": 20,
   "metadata": {},
   "outputs": [
    {
     "name": "stdout",
     "output_type": "stream",
     "text": [
      "['red', 'orange', 'yellow', 'green', 'blue', 'navy', 'purple']\n"
     ]
    }
   ],
   "source": [
    "# 리스트의 맨 끝에 여러 개의 항목을 추가하기\n",
    "color.extend(['navy', 'purple'])\n",
    "print(color)"
   ]
  },
  {
   "cell_type": "markdown",
   "metadata": {},
   "source": [
    "+ 이외에도 다양한 메서드들이 있습니다."
   ]
  },
  {
   "cell_type": "markdown",
   "metadata": {},
   "source": [
    "---\n",
    "#### 4-4. 튜플"
   ]
  },
  {
   "cell_type": "markdown",
   "metadata": {},
   "source": [
    "+ __튜플__이란?\n",
    "    1. 튜플은 리스트와 유사하게 데이터 여러 개를 하나로 묶는 데 이용합니다.\n",
    "    2. 튜플의 속성은 리스트와 유사합니다.\n",
    "    3. 단, 튜플 데이터는 한 번 입력(생성)하면 __그 이후에는 항목을 변경할 수가 없습니다__."
   ]
  },
  {
   "cell_type": "markdown",
   "metadata": {},
   "source": [
    "+ __튜플 만들기__\n",
    "    1. 튜플은 __소괄호__를 사용하거나 괄호를 사용하지 않고 데이터를 입력합니다.\n",
    "    2. 항목은 리스트와 마찬가지로 콤마로 구분합니다."
   ]
  },
  {
   "cell_type": "code",
   "execution_count": 21,
   "metadata": {},
   "outputs": [
    {
     "data": {
      "text/plain": [
       "(1, 2, 3, 4)"
      ]
     },
     "execution_count": 21,
     "metadata": {},
     "output_type": "execute_result"
    }
   ],
   "source": [
    "tuple1 = (1,2,3,4)\n",
    "tuple1"
   ]
  },
  {
   "cell_type": "code",
   "execution_count": 22,
   "metadata": {},
   "outputs": [
    {
     "data": {
      "text/plain": [
       "(5, 6, 7, 8)"
      ]
     },
     "execution_count": 22,
     "metadata": {},
     "output_type": "execute_result"
    }
   ],
   "source": [
    "tuple2 = 5,6,7,8\n",
    "tuple2"
   ]
  },
  {
   "cell_type": "markdown",
   "metadata": {},
   "source": [
    "+ __인자가 하나만 있는 튜플을 생성__할 때는 항목을 입력한 후에 반드시 __콤마__를 입력해야 합니다."
   ]
  },
  {
   "cell_type": "code",
   "execution_count": 23,
   "metadata": {},
   "outputs": [
    {
     "name": "stdout",
     "output_type": "stream",
     "text": [
      "(9,)\n",
      "(10,)\n"
     ]
    }
   ],
   "source": [
    "tuple3 = (9,)\n",
    "tuple4 = 10,\n",
    "print(tuple3)\n",
    "print(tuple4)"
   ]
  },
  {
   "cell_type": "markdown",
   "metadata": {},
   "source": [
    "+ __튜플 다루기__\n",
    "    1. 한 번 생성된 튜플은 요소를 변경하거나 삭제할 수 없습니다.\n",
    "    2. 단, 요소를 변경하지 않는 메서드는 튜플에서도 사용할 수 있습니다."
   ]
  },
  {
   "cell_type": "code",
   "execution_count": 24,
   "metadata": {},
   "outputs": [
    {
     "data": {
      "text/plain": [
       "2"
      ]
     },
     "execution_count": 24,
     "metadata": {},
     "output_type": "execute_result"
    }
   ],
   "source": [
    "# 인자와 일치하는 첫 번째 항목의 위치를 반환하기\n",
    "tuple_alphabet = ('a', 'b', 'c', 'd', 'e')\n",
    "tuple_alphabet.index('c')"
   ]
  },
  {
   "cell_type": "code",
   "execution_count": 25,
   "metadata": {},
   "outputs": [
    {
     "data": {
      "text/plain": [
       "3"
      ]
     },
     "execution_count": 25,
     "metadata": {},
     "output_type": "execute_result"
    }
   ],
   "source": [
    "# 인자와 일치하는 항목의 개수를 반환하기\n",
    "tuple_alphabet1 = ('a', 'a', 'a', 'b', 'b', 'c', 'd')\n",
    "tuple_alphabet1.count('a')"
   ]
  },
  {
   "cell_type": "markdown",
   "metadata": {},
   "source": [
    "---\n",
    "#### 4-5. 세트"
   ]
  },
  {
   "cell_type": "markdown",
   "metadata": {},
   "source": [
    "+ __세트__란?\n",
    "    1. 수학의 집합 개념을 파이썬에서 이용할 수 있도록 만든 데이터 타입입니다.\n",
    "    2. 세트가 리스트와 튜플과 다른 점은 __데이터의 순서가 없고 중복해서 쓸 수 없다는 것__입니다."
   ]
  },
  {
   "cell_type": "markdown",
   "metadata": {},
   "source": [
    "+ __세트 만들기__\n",
    "    1. 세트를 생성할 때는 __중괄호__({})로 데이터를 감싸면 됩니다.\n",
    "    2. 항목은 리스트와 튜플과 마찬가지로 콤마로 구분합니다."
   ]
  },
  {
   "cell_type": "code",
   "execution_count": 26,
   "metadata": {},
   "outputs": [
    {
     "name": "stdout",
     "output_type": "stream",
     "text": [
      "{1, 2, 3}\n",
      "{1, 2, 3}\n"
     ]
    }
   ],
   "source": [
    "set1 = {1, 2, 3}\n",
    "set2 = {1, 2, 3, 3}\n",
    "print(set1)\n",
    "print(set2)"
   ]
  },
  {
   "cell_type": "markdown",
   "metadata": {},
   "source": [
    "+ 세트에서는 앞에서 사용했던 메서드 외에 집합의 기본이 되는 __교집합, 합집합, 차집합__을 구하는 메서드를 사용할 수 있습니다."
   ]
  },
  {
   "cell_type": "code",
   "execution_count": 27,
   "metadata": {},
   "outputs": [],
   "source": [
    "# 세트A, B 설정\n",
    "A = {1, 2, 3, 4, 5}\n",
    "B = {4, 5, 6, 7, 8, 9, 10}"
   ]
  },
  {
   "cell_type": "code",
   "execution_count": 28,
   "metadata": {},
   "outputs": [
    {
     "data": {
      "text/plain": [
       "{4, 5}"
      ]
     },
     "execution_count": 28,
     "metadata": {},
     "output_type": "execute_result"
    }
   ],
   "source": [
    "# 집합 A에 대한 집합 B의 교집합\n",
    "A.intersection(B)"
   ]
  },
  {
   "cell_type": "code",
   "execution_count": 29,
   "metadata": {},
   "outputs": [
    {
     "data": {
      "text/plain": [
       "{1, 2, 3, 4, 5, 6, 7, 8, 9, 10}"
      ]
     },
     "execution_count": 29,
     "metadata": {},
     "output_type": "execute_result"
    }
   ],
   "source": [
    "# 집합 A에 대한 집합 B의 합집합\n",
    "A.union(B)"
   ]
  },
  {
   "cell_type": "code",
   "execution_count": 30,
   "metadata": {},
   "outputs": [
    {
     "data": {
      "text/plain": [
       "{1, 2, 3}"
      ]
     },
     "execution_count": 30,
     "metadata": {},
     "output_type": "execute_result"
    }
   ],
   "source": [
    "# 집합 A에 대한 집합 B의 차집합\n",
    "A.difference(B)"
   ]
  },
  {
   "cell_type": "markdown",
   "metadata": {},
   "source": [
    "+ 위에서는 집합의 연산을 위해 메서드를 이용했지만 각각 '__&, |, -__' 연산자를 이용해 구할 수 있습니다."
   ]
  },
  {
   "cell_type": "markdown",
   "metadata": {},
   "source": [
    "---\n",
    "#### 4-6. 딕셔너리"
   ]
  },
  {
   "cell_type": "markdown",
   "metadata": {},
   "source": [
    "+ __딕셔너리__란?\n",
    "    1. 파이썬의 딕셔너리는 사전과 유사하게 구성되어 있습니다.\n",
    "    2. 사전의 표제어와 설명은 각각 __키(key)__와 __값(value)__이라고 합니다.\n",
    "    3. 키와 값은 항상 쌍으로 구성되어 키를 안다면 그에 해당하는 값을 쉽게 알 수 있습니다."
   ]
  },
  {
   "cell_type": "markdown",
   "metadata": {},
   "source": [
    "+ __딕셔너리 만들기__\n",
    "    1. 딕셔너리를 만들려면 데이터 전체를 __중괄호__({})로 감싸면 됩니다.\n",
    "    2. 키와 값의 구분은 콜론(:)으로 합니다.\n",
    "    3. 키와 값으로 이뤄진 각 쌍은 콤마로 구분합니다."
   ]
  },
  {
   "cell_type": "code",
   "execution_count": 31,
   "metadata": {},
   "outputs": [
    {
     "data": {
      "text/plain": [
       "{'one': 1, 'two': 2, 'three': 3, 'four': 4, 'five': 5}"
      ]
     },
     "execution_count": 31,
     "metadata": {},
     "output_type": "execute_result"
    }
   ],
   "source": [
    "eng_to_kor = {\"one\":1, \"two\":2, \"three\":3, \"four\":4, \"five\":5}\n",
    "eng_to_kor"
   ]
  },
  {
   "cell_type": "code",
   "execution_count": 32,
   "metadata": {},
   "outputs": [
    {
     "data": {
      "text/plain": [
       "{'영국': '런던', '프랑스': '파리', '스위스': '베른', '호주': '멜버른', '덴마크': '코펜하겐'}"
      ]
     },
     "execution_count": 32,
     "metadata": {},
     "output_type": "execute_result"
    }
   ],
   "source": [
    "country_capital = {\"영국\":\"런던\", \"프랑스\":\"파리\", \"스위스\":\"베른\", \"호주\":\"멜버른\", \"덴마크\":\"코펜하겐\"}\n",
    "country_capital"
   ]
  },
  {
   "cell_type": "code",
   "execution_count": 33,
   "metadata": {},
   "outputs": [
    {
     "data": {
      "text/plain": [
       "5"
      ]
     },
     "execution_count": 33,
     "metadata": {},
     "output_type": "execute_result"
    }
   ],
   "source": [
    "# five의 숫자는?\n",
    "eng_to_kor[\"five\"]"
   ]
  },
  {
   "cell_type": "code",
   "execution_count": 34,
   "metadata": {},
   "outputs": [
    {
     "data": {
      "text/plain": [
       "'파리'"
      ]
     },
     "execution_count": 34,
     "metadata": {},
     "output_type": "execute_result"
    }
   ],
   "source": [
    "# 프랑스의 수도는?\n",
    "country_capital[\"프랑스\"]"
   ]
  },
  {
   "cell_type": "markdown",
   "metadata": {},
   "source": [
    "+ 키에 사용할 수 있는 데이터 타입은 숫자, 문자열이지만 값에는 숫자, 문자열, 리스트, 퓨틀, 딕셔너리 등 다양한 데이터를 사용할 수 있습니다."
   ]
  },
  {
   "cell_type": "markdown",
   "metadata": {},
   "source": [
    "+ __딕셔너리 다루기__"
   ]
  },
  {
   "cell_type": "markdown",
   "metadata": {},
   "source": [
    "+ 딕셔너리에 __데이터 추가하고 변경__하기\n",
    "    1. 새로운 키와 값을 추가하거나 기존의 값을 수정하려면 '__딕셔너리 함수[key] = value__' 형태로 입력하면 됩니다."
   ]
  },
  {
   "cell_type": "code",
   "execution_count": 36,
   "metadata": {},
   "outputs": [
    {
     "data": {
      "text/plain": [
       "{'영국': '런던', '프랑스': '파리', '스위스': '베른', '호주': '멜버른', '덴마크': '코펜하겐', '독일': '베를린'}"
      ]
     },
     "execution_count": 36,
     "metadata": {},
     "output_type": "execute_result"
    }
   ],
   "source": [
    "country_capital[\"독일\"] = \"베를린\"\n",
    "country_capital"
   ]
  },
  {
   "cell_type": "code",
   "execution_count": 38,
   "metadata": {},
   "outputs": [
    {
     "data": {
      "text/plain": [
       "{'영국': '런던', '프랑스': '파리', '스위스': '베른', '호주': '캔버라', '덴마크': '코펜하겐', '독일': '베를린'}"
      ]
     },
     "execution_count": 38,
     "metadata": {},
     "output_type": "execute_result"
    }
   ],
   "source": [
    "# 호주의 수도가 잘못되어 수정하기\n",
    "country_capital[\"호주\"] = \"캔버라\"\n",
    "country_capital"
   ]
  },
  {
   "cell_type": "markdown",
   "metadata": {},
   "source": [
    "+ 딕셔너리에서 __데이터 삭제__하기\n",
    "    1. 특정 키와 값을 삭제하려면 '__del 딕셔너리데이터[key]__'를 입력하여 한 쌍을 삭제할 수 있습니다."
   ]
  },
  {
   "cell_type": "code",
   "execution_count": 41,
   "metadata": {},
   "outputs": [
    {
     "data": {
      "text/plain": [
       "{'영국': '런던', '프랑스': '파리', '호주': '캔버라', '독일': '베를린'}"
      ]
     },
     "execution_count": 41,
     "metadata": {},
     "output_type": "execute_result"
    }
   ],
   "source": [
    "# 나라 스위스 삭제하기\n",
    "del country_capital[\"스위스\"]\n",
    "country_capital"
   ]
  },
  {
   "cell_type": "markdown",
   "metadata": {},
   "source": [
    "+ __딕셔너리 메서드 활용하기__\n",
    "    1. '__딕셔너리데이터.메서드이름()__'과 같은 형태로 사용할 수 있습니다."
   ]
  },
  {
   "cell_type": "code",
   "execution_count": 42,
   "metadata": {},
   "outputs": [],
   "source": [
    "fruit_code = {\"사과\":101, \"배\":102, \"딸기\":103, \"포도\":104, \"바나나\":105}"
   ]
  },
  {
   "cell_type": "code",
   "execution_count": 43,
   "metadata": {},
   "outputs": [
    {
     "name": "stdout",
     "output_type": "stream",
     "text": [
      "dict_keys(['사과', '배', '딸기', '포도', '바나나'])\n"
     ]
    }
   ],
   "source": [
    "# 딕셔너리에서 키만 출력하기\n",
    "print(fruit_code.keys())"
   ]
  },
  {
   "cell_type": "code",
   "execution_count": 44,
   "metadata": {},
   "outputs": [
    {
     "name": "stdout",
     "output_type": "stream",
     "text": [
      "dict_values([101, 102, 103, 104, 105])\n"
     ]
    }
   ],
   "source": [
    "# 딕셔너리에서 값만 출력하기\n",
    "print(fruit_code.values())"
   ]
  },
  {
   "cell_type": "code",
   "execution_count": 45,
   "metadata": {},
   "outputs": [
    {
     "name": "stdout",
     "output_type": "stream",
     "text": [
      "dict_items([('사과', 101), ('배', 102), ('딸기', 103), ('포도', 104), ('바나나', 105)])\n"
     ]
    }
   ],
   "source": [
    "# 딕셔너리의 키와 값의 쌍을 출력하기\n",
    "print(fruit_code.items())"
   ]
  },
  {
   "cell_type": "markdown",
   "metadata": {},
   "source": [
    "+ 딕셔너리는 리스트로 변환해서 데이터를 처리하면 편리한 경우가 있습니다. __list()함수__를 이용합니다."
   ]
  },
  {
   "cell_type": "code",
   "execution_count": 46,
   "metadata": {},
   "outputs": [
    {
     "data": {
      "text/plain": [
       "[('사과', 101), ('배', 102), ('딸기', 103), ('포도', 104), ('바나나', 105)]"
      ]
     },
     "execution_count": 46,
     "metadata": {},
     "output_type": "execute_result"
    }
   ],
   "source": [
    "list(fruit_code.items())"
   ]
  },
  {
   "cell_type": "markdown",
   "metadata": {},
   "source": [
    "+ __update()__를 이용해 새로운 딕셔너리 데이터를 추가할 수 있습니다."
   ]
  },
  {
   "cell_type": "code",
   "execution_count": 47,
   "metadata": {},
   "outputs": [],
   "source": [
    "fruit_code2 = {\"오렌지\":106, \"수박\":107}"
   ]
  },
  {
   "cell_type": "code",
   "execution_count": 48,
   "metadata": {},
   "outputs": [
    {
     "data": {
      "text/plain": [
       "{'사과': 101, '배': 102, '딸기': 103, '포도': 104, '바나나': 105, '오렌지': 106, '수박': 107}"
      ]
     },
     "execution_count": 48,
     "metadata": {},
     "output_type": "execute_result"
    }
   ],
   "source": [
    "fruit_code.update(fruit_code2)\n",
    "fruit_code"
   ]
  },
  {
   "cell_type": "markdown",
   "metadata": {},
   "source": [
    "+ __clear()__ 메서드는 딕셔너리의 모든 항목을 삭제합니다."
   ]
  },
  {
   "cell_type": "code",
   "execution_count": 49,
   "metadata": {},
   "outputs": [
    {
     "name": "stdout",
     "output_type": "stream",
     "text": [
      "{}\n"
     ]
    }
   ],
   "source": [
    "fruit_code2.clear()\n",
    "print(fruit_code2)"
   ]
  }
 ],
 "metadata": {
  "kernelspec": {
   "display_name": "Python 3",
   "language": "python",
   "name": "python3"
  },
  "language_info": {
   "codemirror_mode": {
    "name": "ipython",
    "version": 3
   },
   "file_extension": ".py",
   "mimetype": "text/x-python",
   "name": "python",
   "nbconvert_exporter": "python",
   "pygments_lexer": "ipython3",
   "version": "3.7.3"
  }
 },
 "nbformat": 4,
 "nbformat_minor": 2
}
